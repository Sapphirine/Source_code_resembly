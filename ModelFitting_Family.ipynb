{
 "cells": [
  {
   "cell_type": "code",
   "execution_count": 1,
   "metadata": {
    "scrolled": false
   },
   "outputs": [
    {
     "name": "stderr",
     "output_type": "stream",
     "text": [
      "C:\\Users\\techi\\Anaconda3\\lib\\site-packages\\IPython\\core\\interactiveshell.py:2698: DtypeWarning: Columns (7,47) have mixed types. Specify dtype option on import or set low_memory=False.\n",
      "  interactivity=interactivity, compiler=compiler, result=result)\n"
     ]
    }
   ],
   "source": [
    "import pandas as pd\n",
    "df=pd.read_csv(r'D:\\Others\\DB\\new\\2014JointData.csv')\n",
    "\n"
   ]
  },
  {
   "cell_type": "code",
   "execution_count": 2,
   "metadata": {
    "collapsed": true
   },
   "outputs": [],
   "source": [
    "pd.set_option(\"display.max_columns\",100)"
   ]
  },
  {
   "cell_type": "code",
   "execution_count": 3,
   "metadata": {
    "collapsed": true
   },
   "outputs": [],
   "source": [
    "\n",
    "df3=df.loc[df['CopayInnTier1Unit'] == 'Copay after deductible']\n",
    "df3=df3.loc[df['CopayInnTier1Value'] != -1]\n",
    "df3=df3.loc[df['CoinsInnTier1Value'] >=0 ]\n",
    "df3=df3.loc[df['IssuerActuarialValue'] != -1 ]\n"
   ]
  },
  {
   "cell_type": "code",
   "execution_count": 4,
   "metadata": {
    "collapsed": true
   },
   "outputs": [],
   "source": [
    "df4=df3[['IndividualRate', 'IsEHB','IsStateMandate','CopayInnTier1Value','CoinsInnTier1Value',\\\n",
    "         'DiseaseManagementProgramsNumber','NationalNetwork','IssuerActuarialValue','MetalLevel',]]"
   ]
  },
  {
   "cell_type": "code",
   "execution_count": 5,
   "metadata": {
    "scrolled": false
   },
   "outputs": [
    {
     "data": {
      "text/plain": [
       "Low     36530\n",
       "High    32186\n",
       "Name: MetalLevel, dtype: int64"
      ]
     },
     "execution_count": 5,
     "metadata": {},
     "output_type": "execute_result"
    }
   ],
   "source": [
    "df4=df4.dropna(axis=0, how='any')\n",
    "df4.MetalLevel.value_counts()"
   ]
  },
  {
   "cell_type": "code",
   "execution_count": 6,
   "metadata": {
    "collapsed": true
   },
   "outputs": [],
   "source": [
    "\n",
    "\n",
    "df4.IsEHB=df4.IsEHB.str.upper()\n",
    "df4.IsEHB=df4.IsEHB.str.replace('NO','0')\n",
    "df4.IsEHB=df4.IsEHB.str.replace('YES','1')\n",
    "df4.IsEHB=df4.IsEHB.astype(int)\n",
    "\n",
    "df4.IsStateMandate=df4.IsStateMandate.str.upper()\n",
    "df4.IsStateMandate=df4.IsStateMandate.str.replace('NO','0')\n",
    "df4.IsStateMandate=df4.IsStateMandate.str.replace('YES','1')\n",
    "df4.IsStateMandate=df4.IsStateMandate.astype(int)\n",
    "\n",
    "df4.NationalNetwork=df4.NationalNetwork.str.upper()\n",
    "df4.NationalNetwork=df4.NationalNetwork.str.replace('NO','0')\n",
    "df4.NationalNetwork=df4.NationalNetwork.str.replace('YES','1')\n",
    "df4.NationalNetwork=df4.NationalNetwork.astype(int)\n",
    "\n",
    "#df4.MetalLevel=df4.MetalLevel.str.replace(\"Low\",\"1\")\n",
    "#df4.MetalLevel=df4.MetalLevel.str.replace(\"High\",\"3\")\n",
    "#df4.MetalLevel=df4.MetalLevel.str.replace(\"Bronze\",\"1\")\n",
    "#df4.MetalLevel=df4.MetalLevel.str.replace(\"Silver\",\"2\")\n",
    "#df4.MetalLevel=df4.MetalLevel.str.replace(\"Gold\",\"3\")\n",
    "#df4.MetalLevel=df4.MetalLevel.str.replace(\"Platinum\",\"4\")\n",
    "#df4.MetalLevel=df4.MetalLevel.str.replace(\"Catastrophic\",\"0\")\n",
    "df4.MetalLevel=df4.MetalLevel.str.replace(\"Low\",\"0\")\n",
    "df4.MetalLevel=df4.MetalLevel.str.replace(\"High\",\"1\")\n",
    "df4.MetalLevel=df4.MetalLevel.astype(int)"
   ]
  },
  {
   "cell_type": "code",
   "execution_count": 7,
   "metadata": {
    "collapsed": true,
    "scrolled": true
   },
   "outputs": [],
   "source": [
    "import pyspark\n",
    "spDF = sqlContext.createDataFrame(df4)\n",
    "rdd1 = spDF.rdd\n",
    "#data=rdd1.map(lambda line: LabeledPoint(line[0],[line[1:]]))"
   ]
  },
  {
   "cell_type": "code",
   "execution_count": 8,
   "metadata": {
    "collapsed": true
   },
   "outputs": [],
   "source": [
    "from pyspark.ml.linalg import DenseVector\n",
    "\n",
    "data=rdd1.map(lambda line:(line[0],DenseVector(line[1:])))\n",
    "data = spark.createDataFrame(data, [\"label\", \"features\"])"
   ]
  },
  {
   "cell_type": "code",
   "execution_count": 9,
   "metadata": {
    "collapsed": true,
    "scrolled": true
   },
   "outputs": [],
   "source": [
    "train1,test1=data.randomSplit([.8,.2],seed=321)"
   ]
  },
  {
   "cell_type": "code",
   "execution_count": 10,
   "metadata": {
    "collapsed": true,
    "scrolled": true
   },
   "outputs": [],
   "source": [
    "from pyspark.ml.regression import LinearRegression\n",
    "lr = LinearRegression()\n",
    "lrModel = lr.fit(train1)"
   ]
  },
  {
   "cell_type": "code",
   "execution_count": 11,
   "metadata": {},
   "outputs": [
    {
     "name": "stdout",
     "output_type": "stream",
     "text": [
      "+-----+--------------------+------------------+\n",
      "|label|            features|        prediction|\n",
      "+-----+--------------------+------------------+\n",
      "| 7.82|[0.0,0.0,0.0,0.0,...|14.437112985485243|\n",
      "| 7.82|[0.0,0.0,0.0,0.0,...|14.437112985485243|\n",
      "| 7.82|[0.0,0.0,0.0,0.0,...|14.437112985485243|\n",
      "| 7.82|[0.0,0.0,0.0,0.0,...|14.437112985485243|\n",
      "| 7.82|[0.0,0.0,0.0,0.0,...|14.437112985485243|\n",
      "| 7.82|[0.0,0.0,0.0,0.0,...|14.437112985485243|\n",
      "| 7.82|[0.0,0.0,0.0,0.0,...|14.437112985485243|\n",
      "| 7.82|[0.0,0.0,0.0,0.0,...|14.437112985485243|\n",
      "| 7.82|[0.0,0.0,0.0,0.0,...|14.437112985485243|\n",
      "| 7.82|[0.0,0.0,0.0,0.0,...|14.437112985485243|\n",
      "| 7.82|[0.0,0.0,0.0,0.0,...|14.437112985485243|\n",
      "| 7.82|[0.0,0.0,0.0,0.0,...|14.437112985485243|\n",
      "| 7.82|[0.0,0.0,0.0,0.0,...|14.437112985485243|\n",
      "| 7.82|[0.0,0.0,0.0,0.0,...|14.437112985485243|\n",
      "| 7.82|[0.0,0.0,0.0,0.0,...|14.437112985485243|\n",
      "| 7.82|[0.0,0.0,0.0,0.0,...|14.437112985485243|\n",
      "| 7.82|[0.0,0.0,0.0,0.0,...|14.437112985485243|\n",
      "| 7.82|[0.0,0.0,2.0,0.0,...|14.434185843585368|\n",
      "| 7.82|[0.0,0.0,2.0,0.0,...|14.434185843585368|\n",
      "| 7.82|[0.0,0.0,2.0,0.0,...|14.434185843585368|\n",
      "+-----+--------------------+------------------+\n",
      "only showing top 20 rows\n",
      "\n"
     ]
    }
   ],
   "source": [
    "predicted = lrModel.transform(test1)\n",
    "predicted.show()\n"
   ]
  },
  {
   "cell_type": "code",
   "execution_count": 12,
   "metadata": {
    "collapsed": true
   },
   "outputs": [],
   "source": [
    "p=predicted.toPandas() "
   ]
  },
  {
   "cell_type": "code",
   "execution_count": 13,
   "metadata": {},
   "outputs": [
    {
     "data": {
      "text/plain": [
       "0.39645853255006269"
      ]
     },
     "execution_count": 13,
     "metadata": {},
     "output_type": "execute_result"
    }
   ],
   "source": [
    "from sklearn.metrics import r2_score\n",
    "\n",
    "r2_score(p.label, p.prediction)"
   ]
  },
  {
   "cell_type": "code",
   "execution_count": 30,
   "metadata": {},
   "outputs": [
    {
     "data": {
      "image/png": "[encoded data removed]",
      "text/plain": [
       "<matplotlib.figure.Figure at 0x27380eee6d8>"
      ]
     },
     "metadata": {},
     "output_type": "display_data"
    }
   ],
   "source": [
    "import matplotlib.pyplot as plt\n",
    "plt.plot(p.label, p.prediction, 'ro',alpha=0.1)\n",
    "plt.show()"
   ]
  },
  {
   "cell_type": "code",
   "execution_count": 14,
   "metadata": {},
   "outputs": [
    {
     "name": "stdout",
     "output_type": "stream",
     "text": [
      "Coefficients: [-0.491479725287,0.0,-0.00146357094994,-0.818573163903,0.0,10.9225187808,2.81118847506,-35.972600716]\n",
      "Intercept: -182.62719911595718\n"
     ]
    }
   ],
   "source": [
    "print(\"Coefficients: \" + str(lrModel.coefficients))\n",
    "print(\"Intercept: \" + str(lrModel.intercept))"
   ]
  },
  {
   "cell_type": "code",
   "execution_count": null,
   "metadata": {
    "collapsed": true
   },
   "outputs": [],
   "source": []
  }
 ],
 "metadata": {
  "kernelspec": {
   "display_name": "Python 3",
   "language": "python",
   "name": "python3"
  },
  "language_info": {
   "codemirror_mode": {
    "name": "ipython",
    "version": 3
   },
   "file_extension": ".py",
   "mimetype": "text/x-python",
   "name": "python",
   "nbconvert_exporter": "python",
   "pygments_lexer": "ipython3",
   "version": "3.6.2"
  }
 },
 "nbformat": 4,
 "nbformat_minor": 2
}
